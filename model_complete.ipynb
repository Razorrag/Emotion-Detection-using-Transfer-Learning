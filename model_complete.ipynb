{
  "cells": [
    {
      "cell_type": "code",
      "execution_count": null,
      "metadata": {
        "id": "Q9QkdhbAvV47"
      },
      "outputs": [],
      "source": [
        "import tensorflow as tf\n",
        "from tensorflow.keras.preprocessing.image import ImageDataGenerator\n",
        "from tensorflow.keras.layers import Dense, Dropout, BatchNormalization\n",
        "import os\n",
        "import cv2\n",
        "import numpy as np\n",
        "import matplotlib.pyplot as plt\n",
        "import warnings\n",
        "warnings.filterwarnings('ignore')\n"
      ]
    },
    {
      "cell_type": "code",
      "execution_count": null,
      "metadata": {
        "id": "_z-tsm-68HES"
      },
      "outputs": [],
      "source": [
        "from google.colab import drive\n",
        "drive.mount('/content/drive')"
      ]
    },
    {
      "cell_type": "code",
      "execution_count": null,
      "metadata": {
        "id": "tCVfyh4MvX9a"
      },
      "outputs": [],
      "source": [
        "from google.colab import drive\n",
        "import zipfile\n",
        "\n",
        "# Mount Google Drive\n",
        "drive.mount('/content/drive')\n",
        "\n",
        "# Unzip the dataset\n",
        "zip_path = '/content/drive/MyDrive/archive.zip'  # Adjust path if needed\n",
        "extract_path = '/content/drive/MyDrive/fer2013'\n",
        "with zipfile.ZipFile(zip_path, 'r') as zip_ref:\n",
        "    zip_ref.extractall(extract_path)\n"
      ]
    },
    {
      "cell_type": "code",
      "execution_count": null,
      "metadata": {
        "id": "yLdrQjCavhKL"
      },
      "outputs": [],
      "source": [
        "train_base_dir = \"/content/drive/MyDrive/fer2013/train\"\n",
        "test_base_dir = \"/content/drive/MyDrive/fer2013/test\"\n",
        "\n",
        "print(\"Training categories:\", os.listdir(train_base_dir))\n",
        "print(\"Testing categories:\", os.listdir(test_base_dir))\n",
        "\n",
        "# Store available categories\n",
        "category_list = os.listdir(train_base_dir)\n"
      ]
    },
    {
      "cell_type": "code",
      "execution_count": null,
      "metadata": {
        "id": "T1wbqk7zvo9X"
      },
      "outputs": [],
      "source": [
        "fig = plt.figure(figsize=(10, 10))\n",
        "i = 1\n",
        "for category in category_list:\n",
        "    category_path = os.path.join(train_base_dir, category)\n",
        "    img_name = os.listdir(category_path)[0]\n",
        "    img_path = os.path.join(category_path, img_name)\n",
        "    img_bgr = cv2.imread(img_path)\n",
        "    img_rgb = cv2.cvtColor(img_bgr, cv2.COLOR_BGR2RGB)\n",
        "\n",
        "    plt.subplot(1, 7, i)\n",
        "    plt.imshow(img_rgb)\n",
        "    plt.title(category)\n",
        "    plt.axis('off')\n",
        "    i += 1\n",
        "plt.show()\n"
      ]
    },
    {
      "cell_type": "code",
      "execution_count": null,
      "metadata": {
        "id": "JAFAfMALxNcm"
      },
      "outputs": [],
      "source": [
        "train_data_gen = ImageDataGenerator(\n",
        "    rotation_range=10,\n",
        "    width_shift_range=0.2,\n",
        "    height_shift_range=0.2,\n",
        "    shear_range=0.2,\n",
        "    zoom_range=0.2,\n",
        "    horizontal_flip=True,\n",
        "    rescale=1./255\n",
        ")\n",
        "test_data_gen = ImageDataGenerator(rescale=1./255)\n",
        "\n",
        "train_data = train_data_gen.flow_from_directory(\n",
        "    train_base_dir,\n",
        "    target_size=(224, 224),\n",
        "    class_mode='sparse',\n",
        "    batch_size=32\n",
        ")\n",
        "\n",
        "test_data = test_data_gen.flow_from_directory(\n",
        "    test_base_dir,\n",
        "    target_size=(224, 224),\n",
        "    class_mode='sparse',\n",
        "    batch_size=32\n",
        ")\n"
      ]
    },
    {
      "cell_type": "code",
      "execution_count": null,
      "metadata": {
        "id": "wh8KN3qDxN9A"
      },
      "outputs": [],
      "source": [
        "class_indices = train_data.class_indices\n",
        "category_mapping = {v: k for k, v in class_indices.items()}\n",
        "print(category_mapping)\n"
      ]
    },
    {
      "cell_type": "code",
      "execution_count": null,
      "metadata": {
        "id": "1T1x_qD9xP5H"
      },
      "outputs": [],
      "source": [
        "from tensorflow.keras.applications import MobileNetV3Large\n",
        "\n",
        "model = MobileNetV3Large()\n",
        "for layer in model.layers:\n",
        "    layer.trainable = False\n",
        "\n",
        "output = model.layers[-1].output\n",
        "output = BatchNormalization()(output)\n",
        "output = Dense(128)(output)\n",
        "output = BatchNormalization()(output)\n",
        "output = Dense(7, activation=\"softmax\")(output)\n",
        "\n",
        "new_model = tf.keras.Model(inputs=model.input, outputs=output)\n",
        "new_model.compile(optimizer=tf.keras.optimizers.Adam(learning_rate=0.0001),\n",
        "                  loss=\"sparse_categorical_crossentropy\",\n",
        "                  metrics=[\"accuracy\"])\n",
        "\n",
        "new_model.summary()\n"
      ]
    },
    {
      "cell_type": "code",
      "execution_count": null,
      "metadata": {
        "colab": {
          "background_save": true,
          "base_uri": "https://localhost:8080/"
        },
        "id": "dJhF5JMIxRZU",
        "outputId": "c481b4da-2472-431e-f86f-cde987956439"
      },
      "outputs": [
        {
          "name": "stdout",
          "output_type": "stream",
          "text": [
            "Epoch 1/10\n",
            "\u001b[1m898/898\u001b[0m \u001b[32m━━━━━━━━━━━━━━━━━━━━\u001b[0m\u001b[37m\u001b[0m \u001b[1m1776s\u001b[0m 2s/step - accuracy: 0.1682 - loss: 2.0433 - val_accuracy: 0.2473 - val_loss: 1.8463 - learning_rate: 1.0000e-04\n",
            "Epoch 2/10\n",
            "\u001b[1m898/898\u001b[0m \u001b[32m━━━━━━━━━━━━━━━━━━━━\u001b[0m\u001b[37m\u001b[0m \u001b[1m1764s\u001b[0m 2s/step - accuracy: 0.2234 - loss: 1.8596 - val_accuracy: 0.2480 - val_loss: 1.8157 - learning_rate: 1.0000e-04\n",
            "Epoch 3/10\n",
            "\u001b[1m898/898\u001b[0m \u001b[32m━━━━━━━━━━━━━━━━━━━━\u001b[0m\u001b[37m\u001b[0m \u001b[1m1627s\u001b[0m 2s/step - accuracy: 0.2320 - loss: 1.8338 - val_accuracy: 0.2488 - val_loss: 1.8058 - learning_rate: 1.0000e-04\n",
            "Epoch 4/10\n",
            "\u001b[1m151/898\u001b[0m \u001b[32m━━━\u001b[0m\u001b[37m━━━━━━━━━━━━━━━━━\u001b[0m \u001b[1m18:58\u001b[0m 2s/step - accuracy: 0.2402 - loss: 1.8166"
          ]
        }
      ],
      "source": [
        "from tensorflow.keras.callbacks import EarlyStopping, ReduceLROnPlateau\n",
        "\n",
        "earlystop = EarlyStopping(monitor='val_accuracy', patience=10, restore_best_weights=True)\n",
        "reduce_lr = ReduceLROnPlateau(monitor='val_accuracy', factor=0.2, patience=3)\n",
        "\n",
        "history = new_model.fit(\n",
        "    train_data,\n",
        "    epochs=10,\n",
        "    validation_data=test_data,\n",
        "    callbacks=[earlystop, reduce_lr]\n",
        ")\n"
      ]
    },
    {
      "cell_type": "code",
      "execution_count": null,
      "metadata": {
        "id": "OYseY1w0xUa8"
      },
      "outputs": [],
      "source": [
        "# Save the model\n",
        "new_model.save('/content/drive/MyDrive/my_model.h5')\n",
        "\n",
        "# Save category mapping\n",
        "import pickle\n",
        "with open('/content/drive/MyDrive/category_map.pkl', 'wb') as f:\n",
        "    pickle.dump(category_mapping, f)\n"
      ]
    },
    {
      "cell_type": "code",
      "execution_count": null,
      "metadata": {
        "id": "lBYHrTLPxXIj"
      },
      "outputs": [],
      "source": [
        "new_model.save('/content/drive/MyDrive/my_model.keras')\n"
      ]
    },
    {
      "cell_type": "code",
      "execution_count": null,
      "metadata": {
        "id": "U73SDMQCxY3z"
      },
      "outputs": [],
      "source": [
        "model = tf.keras.models.load_model('/content/drive/MyDrive/my_model.keras')\n"
      ]
    },
    {
      "cell_type": "code",
      "execution_count": null,
      "metadata": {
        "id": "-v7LIGmExcxL"
      },
      "outputs": [],
      "source": [
        "with open('/content/drive/MyDrive/category_map.pkl', 'rb') as f:\n",
        "    category_mapping = pickle.load(f)\n",
        "print(\"Loaded category mapping:\", category_mapping)"
      ]
    },
    {
      "cell_type": "code",
      "execution_count": null,
      "metadata": {
        "id": "A9LLwkwIrMUR"
      },
      "outputs": [],
      "source": [
        "import tensorflow as tf\n",
        "import pickle\n",
        "\n",
        "# Load the model\n",
        "model = tf.keras.models.load_model('/content/drive/MyDrive/my_model.keras')\n",
        "\n",
        "# Load category mapping\n",
        "with open('/content/drive/MyDrive/category_map.pkl', 'rb') as f:\n",
        "    category_mapping = pickle.load(f)\n",
        "\n",
        "print(\"Loaded category mapping:\", category_mapping)\n"
      ]
    },
    {
      "cell_type": "code",
      "execution_count": null,
      "metadata": {
        "id": "-vrBFJ6hrQA4"
      },
      "outputs": [],
      "source": []
    }
  ],
  "metadata": {
    "colab": {
      "provenance": []
    },
    "kernelspec": {
      "display_name": "Python 3",
      "name": "python3"
    },
    "language_info": {
      "name": "python"
    }
  },
  "nbformat": 4,
  "nbformat_minor": 0
}